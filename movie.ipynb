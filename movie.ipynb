{
  "nbformat": 4,
  "nbformat_minor": 0,
  "metadata": {
    "colab": {
      "provenance": []
    },
    "kernelspec": {
      "name": "python3",
      "display_name": "Python 3"
    },
    "language_info": {
      "name": "python"
    }
  },
  "cells": [
    {
      "cell_type": "markdown",
      "source": [
        "### Example Prompts:\n",
        "- Blood & Water  \n",
        "- Ganglands  \n",
        "- Kota Factory  \n",
        "- Jailbirds New Orleans  \n",
        "\n"
      ],
      "metadata": {
        "id": "vVpEaQWBg2vw"
      }
    },
    {
      "cell_type": "code",
      "source": [
        "import pandas as pd\n",
        "from sklearn.feature_extraction.text import TfidfVectorizer\n",
        "from sklearn.metrics.pairwise import cosine_similarity\n",
        "\n",
        "# loading dataset\n",
        "url = \"https://github.com/shaswat373/Movie-Recommendation/raw/main/dataset.zip\"\n",
        "path = \"dataset.zip\"\n",
        "extract_to = \"movies\"\n",
        "\n",
        "import urllib.request, zipfile, os\n",
        "if not os.path.exists(\"netflix_data.csv\"):\n",
        "    print(\"Downloading dataset...\")\n",
        "    urllib.request.urlretrieve(url, path)\n",
        "    with zipfile.ZipFile(path, 'r') as zip_ref:\n",
        "        zip_ref.extractall()\n",
        "    print(\"Dataset ready.\")\n",
        "\n",
        "df = pd.read_csv(\"netflix_data.csv\")\n",
        "df = df.dropna(subset=['title', 'description', 'listed_in'])  # ensure required fields\n",
        "df['content'] = df['description'] + \" \" + df['listed_in']  # combine description and genres\n",
        "tfidf = TfidfVectorizer(stop_words='english')\n",
        "tfidf_matrix = tfidf.fit_transform(df['content'])\n",
        "\n",
        "cosine_sim = cosine_similarity(tfidf_matrix, tfidf_matrix)\n",
        "title_to_index = pd.Series(df.index, index=df['title'].str.lower())\n",
        "\n",
        "# recommendation function\n",
        "def recommend_movies(title, n=5):\n",
        "    title = title.strip().lower()\n",
        "    if title not in title_to_index:\n",
        "        print(f\"\\nMovie '{title}' not found in database. Please check the spelling.\")\n",
        "        return\n",
        "\n",
        "    idx = title_to_index[title]\n",
        "    sim_scores = list(enumerate(cosine_sim[idx]))\n",
        "    sim_scores = sorted(sim_scores, key=lambda x: x[1], reverse=True)[1:n+1]\n",
        "\n",
        "    print(f\"\\nBecause you liked '{df['title'][idx]}', you might also enjoy:\\n\")\n",
        "    for i, (movie_idx, score) in enumerate(sim_scores, 1):\n",
        "        print(f\"{i}. {df['title'][movie_idx]}\")\n",
        "\n",
        "# user input\n",
        "print(\"Movie Recommendation System\")\n",
        "movie = input(\"Enter a movie title: \")\n",
        "recommend_movies(movie)\n",
        "\n"
      ],
      "metadata": {
        "id": "WIYyxFS1g0dO"
      },
      "execution_count": null,
      "outputs": []
    }
  ]
}